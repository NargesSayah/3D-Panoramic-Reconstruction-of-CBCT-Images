{
  "nbformat": 4,
  "nbformat_minor": 0,
  "metadata": {
    "colab": {
      "name": "imageReconstruction.ipynb",
      "provenance": []
    },
    "kernelspec": {
      "name": "python3",
      "display_name": "Python 3"
    },
    "language_info": {
      "name": "python"
    }
  },
  "cells": [
    {
      "cell_type": "code",
      "execution_count": null,
      "metadata": {
        "id": "wGqRyz0-5MTa",
        "colab": {
          "base_uri": "https://localhost:8080/"
        },
        "outputId": "44d1ddf1-0ceb-4696-b8dc-92f9f53ea64f"
      },
      "outputs": [
        {
          "output_type": "stream",
          "name": "stdout",
          "text": [
            "Requirement already satisfied: pydicom in /usr/local/lib/python3.7/dist-packages (2.2.2)\n",
            "/bin/bash: conda: command not found\n",
            "/bin/bash: conda: command not found\n",
            "Requirement already satisfied: pillow in /usr/local/lib/python3.7/dist-packages (7.1.2)\n",
            "Requirement already satisfied: python-gdcm in /usr/local/lib/python3.7/dist-packages (3.0.10)\n",
            "/bin/bash: conda: command not found\n",
            "Collecting pylibjpeg\n",
            "  Downloading pylibjpeg-1.3.0-py3-none-any.whl (28 kB)\n",
            "Collecting pylibjpeg-libjpeg\n",
            "  Downloading pylibjpeg_libjpeg-1.2.0-cp37-cp37m-manylinux2010_x86_64.whl (4.2 MB)\n",
            "\u001b[K     |████████████████████████████████| 4.2 MB 6.6 MB/s \n",
            "\u001b[?25hRequirement already satisfied: numpy in /usr/local/lib/python3.7/dist-packages (from pylibjpeg) (1.19.5)\n",
            "Collecting pylibjpeg-rle\n",
            "  Downloading pylibjpeg_rle-1.2.0-cp37-cp37m-manylinux_2_17_x86_64.manylinux2014_x86_64.whl (970 kB)\n",
            "\u001b[K     |████████████████████████████████| 970 kB 54.1 MB/s \n",
            "\u001b[?25hCollecting pylibjpeg-openjpeg\n",
            "  Downloading pylibjpeg_openjpeg-1.1.1-cp37-cp37m-manylinux2010_x86_64.whl (3.6 MB)\n",
            "\u001b[K     |████████████████████████████████| 3.6 MB 51.9 MB/s \n",
            "\u001b[?25hInstalling collected packages: pylibjpeg-rle, pylibjpeg-openjpeg, pylibjpeg-libjpeg, pylibjpeg\n",
            "Successfully installed pylibjpeg-1.3.0 pylibjpeg-libjpeg-1.2.0 pylibjpeg-openjpeg-1.1.1 pylibjpeg-rle-1.2.0\n"
          ]
        }
      ],
      "source": [
        "!pip install pydicom\n",
        "!conda install plotly\n",
        "!conda install scikit-image\n",
        "!python -m pip install pillow\n",
        "!pip install python-gdcm\n",
        "!conda install -c conda-forge gdcm\n",
        "!pip install pylibjpeg pylibjpeg-libjpeg\n",
        "\n",
        "from pydicom import dcmread\n",
        "import pylibjpeg\n",
        "\n",
        "import numpy as np\n",
        "import pydicom\n",
        "import pydicom.pixel_data_handlers.gdcm_handler as gdcm_handler\n",
        "pydicom.config.image_handlers = [None, gdcm_handler]\n",
        "pydicom.config.image_handlers = ['gdcm_handler']\n",
        "import os\n",
        "import matplotlib.pyplot as plt\n",
        "from glob import glob\n",
        "from mpl_toolkits.mplot3d.art3d import Poly3DCollection\n",
        "import scipy.ndimage\n",
        "from skimage import morphology\n",
        "from skimage import measure\n",
        "from skimage import exposure\n",
        "from skimage.transform import resize\n",
        "from sklearn.cluster import KMeans\n",
        "from plotly import __version__\n",
        "from plotly.offline import download_plotlyjs, init_notebook_mode, plot #,iplot\n",
        "from plotly.tools import FigureFactory as FF\n",
        "from plotly.graph_objs import *\n",
        "from pydicom.data import get_testdata_files\n",
        "\n",
        "#init_notebook_mode(connected=True)\n",
        "#print(pydicom.__version__)\n"
      ]
    },
    {
      "cell_type": "code",
      "source": [
        "from google.colab import drive\n",
        "drive.mount('/content/drive')"
      ],
      "metadata": {
        "id": "WvJ4of0JAY0B",
        "colab": {
          "base_uri": "https://localhost:8080/"
        },
        "outputId": "3d3fadc0-5a5c-4ae2-f36b-c0ab01432733"
      },
      "execution_count": null,
      "outputs": [
        {
          "output_type": "stream",
          "name": "stdout",
          "text": [
            "Drive already mounted at /content/drive; to attempt to forcibly remount, call drive.mount(\"/content/drive\", force_remount=True).\n"
          ]
        }
      ]
    },
    {
      "cell_type": "code",
      "source": [
        "data_path = \"/content/drive/My Drive/Workspace/DentAssistant/dataset/\"\n",
        "output_path = working_path = \"/content/drive/My Drive/Workspace/DentAssistant/\"\n",
        "\n",
        "g = glob(data_path + '/*.dcm')\n",
        "\n",
        "# Print out the first 5 file names to verify we're in the right folder.\n",
        "print (\"Total of %d DICOM images.\\nFirst 5 filenames:\" % len(g))\n",
        "print ('\\n'.join(g[:5]))\n",
        "output_path = working_path = \"/Users/narges/Workspace/DentAssistant/\""
      ],
      "metadata": {
        "colab": {
          "base_uri": "https://localhost:8080/"
        },
        "id": "gWB3szAQ9md6",
        "outputId": "b39eca6c-35b2-4265-ffaf-616d029c7b09"
      },
      "execution_count": null,
      "outputs": [
        {
          "output_type": "stream",
          "name": "stdout",
          "text": [
            "Total of 458 DICOM images.\n",
            "First 5 filenames:\n",
            "/content/drive/My Drive/Workspace/DentAssistant/dataset/I0000470295 (2).dcm\n",
            "/content/drive/My Drive/Workspace/DentAssistant/dataset/I0000470289.dcm\n",
            "/content/drive/My Drive/Workspace/DentAssistant/dataset/I0000470297.dcm\n",
            "/content/drive/My Drive/Workspace/DentAssistant/dataset/I0000470295 (1).dcm\n",
            "/content/drive/My Drive/Workspace/DentAssistant/dataset/I0000470291.dcm\n"
          ]
        }
      ]
    },
    {
      "cell_type": "code",
      "source": [
        "#\n",
        "# Loop over the image files and store everything into a list.\n",
        "#\n",
        "\n",
        "def load_scan(path):\n",
        "    slices = []\n",
        "    # count = 0\n",
        "    for s in os.listdir(path):\n",
        "        ds = pydicom.dcmread(path + '/' + s, force=True)\n",
        "        ds.PhotometricInterpretation = 'YBR_FULL'\n",
        "\n",
        "        if s != '.DS_Store': #This is for AttributeError: 'FileDataset' object has no attribute 'InstanceNumber'\n",
        "            # count += 1\n",
        "            # print(count)\n",
        "            # print(s)\n",
        "            #print(ds)\n",
        "            # print(int(ds.InstanceNumber), '\\n')\n",
        "            slices.append(ds)\n",
        "\n",
        "    #slices = [pydicom.read_file(path + '/' + s, force=True) for s in os.listdir(path)]\n",
        "    slices.sort(key=lambda x: int(x.InstanceNumber))\n",
        "    try:\n",
        "        slice_thickness = np.abs(slices[0].ImagePositionPatient[2] - slices[1].ImagePositionPatient[2])\n",
        "    except:\n",
        "        slice_thickness = np.abs(slices[0].SliceLocation - slices[1].SliceLocation)\n",
        "\n",
        "    for s in slices:\n",
        "        s.SliceThickness = slice_thickness\n",
        "\n",
        "    return slices\n",
        "\n",
        "\n",
        "def get_pixels_hu(scans):\n",
        "    # pix = [s.pixel_array for s in scans]\n",
        "    # ds.PixelData = pix.tobytes()\n",
        "    # print(scans[1])\n",
        "\n",
        "    # img_list is of type generator numpy.ndarray\n",
        "    #for s in range(len(scans)):\n",
        "    #    print(scans[s].pixel_array)\n",
        "    #    img_list = scans[s].pixel_array\n",
        "    # print(type(img_list))\n",
        "    #scans = (t.decompress() for t in scans)\n",
        "    #print(scans)\n",
        "    image = np.stack([s.pixel_array for s in scans])\n",
        "    # print(np.array(image))\n",
        "\n",
        "    # Convert to int16 (from sometimes int16),\n",
        "    # should be possible as values should always be low enough (<32k)\n",
        "    image = image.astype(np.int16)\n",
        "\n",
        "    # Set outside-of-scan pixels to 1\n",
        "    # The intercept is usually -1024, so air is approximately 0\n",
        "    image[image == -2000] = 0\n",
        "\n",
        "    # Convert to Hounsfield units (HU)\n",
        "    intercept = scans[0].RescaleIntercept\n",
        "    slope = scans[0].RescaleSlope\n",
        "\n",
        "    if slope != 1:\n",
        "        image = slope * image.astype(np.float64)\n",
        "        image = image.astype(np.int16)\n",
        "\n",
        "    image += np.int16(intercept)\n",
        "\n",
        "    return np.array(image, dtype=np.int16)\n",
        "\n",
        "\n",
        "def imageCount(dirName):\n",
        "    \"\"\"Counts the number of files in a directory\n",
        "    Counts the number of files in a given directory and returns the result. Ignores desktop.ini to allow for Windows compatibility\n",
        "    Args:\n",
        "        dirName: A string representation of the name of the directory to be opened. This directory should be a child of the working directory. EX: \"trainingImages\"\n",
        "    Returns:\n",
        "        An integer value for the number of files in the directory\n",
        "    \"\"\"\n",
        "\n",
        "    for root, dir, files in os.walk(dirName):\n",
        "        scans = [file  for file in files if file != \"desktop.ini\"]\n",
        "        return len(scans)\n",
        "    print(dirName + \" is not a valid directory\")\n",
        "    exit(-1)\n",
        "\n",
        "\n",
        "def readScan(scanNum, dirName):\n",
        "    \"\"\" Reads a DICOM file from a directory\n",
        "    Given a directory name and the number of the file containing the image to be read, reads in and returns a numpy representation of the image. Also normalizes the pixel values of the image.\n",
        "    Args:\n",
        "        scanNum: An integer containing the one-based index of the file to be read\n",
        "        dirName: A string representation of the name of the directory to be opened. This directory should be a child of the working directory. Ex: \"trainingImages\"\n",
        "    Returns:\n",
        "        A numpy array containing the pixel data for the image\n",
        "    \"\"\"\n",
        "\n",
        "    for root, dir, files in os.walk(dirName):\n",
        "        scans = [file  for file in files if file != \"desktop.ini\" or '.DS_Store']\n",
        "        print(\"Reading image \" + scans[scanNum] + \" from \" + dirName)\n",
        "        data = np.load(dirName + scans[scanNum])\n",
        "        #plt.imshow(data)\n",
        "        #plt.show()\n",
        "        data = exposure.equalize_adapthist(data)\n",
        "        #plt.imshow(data)\n",
        "        #plt.show()\n",
        "        return data\n",
        "    print(dirName + \" is not a valid directory\")\n",
        "    exit(-1)\n",
        "\n",
        "\n",
        "def readValidationImages(dirName):\n",
        "    \"\"\" Reads in all images in the validation directories\n",
        "    Creates a numpy array containing the pixel data of all the images in the directories of validation images. Assumes that the subdirectories \"PosVal\" and \"NegVal\" exit in the working directory\n",
        "\n",
        "    Args: None\n",
        "    Returns:\n",
        "        A numpy array containing the pixel values for all validation images. Also returns a numpy array containing whether each image has a positive or negative label\n",
        "    \"\"\"\n",
        "\n",
        "    labels = []\n",
        "    patientData = []\n",
        "\n",
        "    for i in range(0, imageCount(dirName)):\n",
        "        data = readScan(i, dirName)\n",
        "        if data != '.DS_Store':\n",
        "            labels.append(1)\n",
        "            patientData.append(data)\n",
        "    \"\"\"for i in range(0, imageCount(\"NegVal\")):\n",
        "        data = readScan(i, \"NegVal\")\n",
        "        labels.append(0)\n",
        "        patientData.append(data)\"\"\"\n",
        "\n",
        "    patientData = np.stack(patientData).astype(float)\n",
        "\n",
        "    return patientData#, np.stack(labels)\n",
        "\n",
        "\n",
        "id = 0\n",
        "patient = load_scan(data_path)\n",
        "#print(patient)\n",
        "imgs = get_pixels_hu(patient)\n",
        "#imgs = readValidationImages(data_path)\n",
        "print(imgs)\n"
      ],
      "metadata": {
        "id": "IDS4ojCU9YpW"
      },
      "execution_count": null,
      "outputs": []
    },
    {
      "cell_type": "code",
      "source": [
        "np.save(output_path + \"fullimages_%d.npy\" % (id), imgs)"
      ],
      "metadata": {
        "id": "XVMgW44CKDZU"
      },
      "execution_count": null,
      "outputs": []
    },
    {
      "cell_type": "code",
      "source": [
        "file_used=output_path+\"fullimages_%d.npy\" % id\n",
        "imgs_to_process = np.load(file_used).astype(np.float64)\n",
        "\n",
        "plt.hist(imgs_to_process.flatten(), bins=50, color='c')\n",
        "plt.xlabel(\"Hounsfield Units (HU)\")\n",
        "plt.ylabel(\"Frequency\")\n",
        "plt.show()\n"
      ],
      "metadata": {
        "id": "vYyevV-qKGpO"
      },
      "execution_count": null,
      "outputs": []
    },
    {
      "cell_type": "code",
      "source": [
        "id = 0\n",
        "imgs_to_process = np.load(output_path+'fullimages_{}.npy'.format(id))\n",
        "\n",
        "def sample_stack(stack, rows=6, cols=6, start_with=0, show_every=0):\n",
        "    fig,ax = plt.subplots(rows,cols,figsize=[12,12])\n",
        "    for i in range(rows*cols):\n",
        "        ind = start_with + i*show_every\n",
        "        ax[int(i/rows),int(i % rows)].set_title('slice %d' % ind)\n",
        "        ax[int(i/rows),int(i % rows)].imshow(stack[ind],cmap='gray')\n",
        "        ax[int(i/rows),int(i % rows)].axis('off')\n",
        "    plt.show()\n",
        "\n",
        "sample_stack(imgs_to_process)"
      ],
      "metadata": {
        "id": "BrkkXkVvKHYk"
      },
      "execution_count": null,
      "outputs": []
    },
    {
      "cell_type": "markdown",
      "source": [
        ""
      ],
      "metadata": {
        "id": "kF8FRcgbKK97"
      }
    },
    {
      "cell_type": "code",
      "source": [
        "print(\"Slice Thickness: %f\" % patient[0].SliceThickness)\n",
        "print(\"Pixel Spacing (row, col): (%f, %f) \" % (patient[0].PixelSpacing[0], patient[0].PixelSpacing[1]))\n"
      ],
      "metadata": {
        "id": "xrtXPfJtKLUN"
      },
      "execution_count": null,
      "outputs": []
    },
    {
      "cell_type": "code",
      "source": [
        "def make_mesh(image, threshold=-300, step_size=1):\n",
        "    print(\"Transposing surface\")\n",
        "    p = image.transpose(2, 1, 0)\n",
        "\n",
        "    print(\"Calculating surface\")\n",
        "    verts, faces, norm, val = measure.marching_cubes(p, threshold, step_size=step_size, allow_degenerate=True)\n",
        "    return verts, faces\n",
        "\n",
        "\n",
        "def plotly_3d(verts, faces):\n",
        "    x, y, z = zip(*verts)\n",
        "\n",
        "    print(\"Drawing\")\n",
        "\n",
        "    # Make the colormap single color since the axes are positional not intensity.\n",
        "    #    colormap=['rgb(255,105,180)','rgb(255,255,51)','rgb(0,191,255)']\n",
        "    colormap = ['rgb(236, 236, 212)', 'rgb(236, 236, 212)']\n",
        "\n",
        "    fig = FF.create_trisurf(x=x,\n",
        "                            y=y,\n",
        "                            z=z,\n",
        "                            plot_edges=False,\n",
        "                            colormap=colormap,\n",
        "                            simplices=faces,\n",
        "                            backgroundcolor='rgb(64, 64, 64)',\n",
        "                            title=\"Interactive Visualization\")\n",
        "    iplot(fig)\n",
        "\n",
        "\n",
        "def plt_3d(verts, faces):\n",
        "    print(\"Drawing\")\n",
        "    x, y, z = zip(*verts)\n",
        "    fig = plt.figure(figsize=(10, 10))\n",
        "    ax = fig.add_subplot(111, projection='3d')\n",
        "\n",
        "    # Fancy indexing: `verts[faces]` to generate a collection of triangles\n",
        "    mesh = Poly3DCollection(verts[faces], linewidths=0.05, alpha=1)\n",
        "    face_color = [1, 1, 0.9]\n",
        "    mesh.set_facecolor(face_color)\n",
        "    ax.add_collection3d(mesh)\n",
        "\n",
        "    ax.set_xlim(0, max(x))\n",
        "    ax.set_ylim(0, max(y))\n",
        "    ax.set_zlim(0, max(z))\n",
        "    ax.set_axis_bgcolor((0.7, 0.7, 0.7))\n",
        "    plt.show()\n",
        "\n",
        "    \"\"\"v, f = make_mesh(imgs_after_resamp, 350)\n",
        "    plt_3d(v, f)\n",
        "\n",
        "\n",
        "##########################################################################################################\n",
        "\n",
        "v, f = make_mesh(imgs_after_resamp, 350, 2)\n",
        "plotly_3d(v, f)\"\"\""
      ],
      "metadata": {
        "id": "GqXVhfd5KPIT"
      },
      "execution_count": null,
      "outputs": []
    },
    {
      "cell_type": "code",
      "source": [
        "\n",
        "\"\"\"id = 0\n",
        "imgs_to_process = np.load(output_path + 'fullimages_{}.npy'.format(id))\n",
        "\n",
        "\n",
        "def resample(image, scan, new_spacing=[1, 1, 1]):\n",
        "    # Determine current pixel spacing\n",
        "    spacing = ([float(scan[0].SliceThickness)] + [float(scan[0].PixelSpacing)])\n",
        "    spacing = np.array(spacing)\n",
        "\n",
        "    resize_factor = [spacing[0] / new_spacing[0], spacing[1] / new_spacing[1], spacing[2] / new_spacing[2]]\n",
        "    new_real_shape = image.shape * resize_factor\n",
        "    new_shape = np.round(new_real_shape)\n",
        "    real_resize_factor = new_shape / image.shape\n",
        "    new_spacing = spacing / real_resize_factor\n",
        "\n",
        "    image = scipy.ndimage.interpolation.zoom(image, real_resize_factor)\n",
        "\n",
        "    return image, new_spacing\n",
        "\n",
        "\n",
        "print(\"Shape before resampling\\t\", imgs_to_process.shape)\n",
        "imgs_after_resamp, spacing = resample(imgs_to_process, patient, [1, 1, 1])\n",
        "print(\"Shape after resampling\\t\", imgs_after_resamp.shape)\"\"\"\n"
      ],
      "metadata": {
        "id": "naQhMTaAKvlB"
      },
      "execution_count": null,
      "outputs": []
    }
  ]
}